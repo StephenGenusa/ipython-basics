{
 "metadata": {
  "name": "",
  "signature": "sha256:7e3cf118342e7e1e0474c81802ff982a173d657f4d2220638fa548ebe2926dc0"
 },
 "nbformat": 3,
 "nbformat_minor": 0,
 "worksheets": [
  {
   "cells": [
    {
     "cell_type": "heading",
     "level": 1,
     "metadata": {},
     "source": [
      "The Basics of Using IPython"
     ]
    },
    {
     "cell_type": "markdown",
     "metadata": {},
     "source": [
      "v .10 by Stephen Genusa\n",
      "<ul>\n",
      "<li><a href=\"https://github.com/StephenGenusa?tab=repositories\" target=\"_blank\">https://github.com/StephenGenusa?tab=repositories</a></li>\n",
      "<li><a href=\"http://development.genusa.com\" target=\"_blank\">http://development.genusa.com</a></li>\n",
      "</ul>\n",
      "\n",
      "IPython is a <i>very</i> cool interface to Python which allows you to use or create interactive notebooks. IPython notebooks can contain markdown text such as this cell, Python code, and IPython \"magic functions\" that can do some handy tricks as you will see below.\n",
      "\n",
      "First, let's talk about cell types. There are four basic cell types:\n",
      "1. Heading cells, such as the cell above.\n",
      "2. Markdown cells, such as this cell.</li>\n",
      "3. Code cells where Python code and \"magic functions\" are stored and results of that code may be shown.</li> \n",
      "4. Raw cells where you can write *output* directly. Raw cells are not evaluated or rendered by IPython.</li>\n",
      " \n",
      "## Viewing a Cell-Type ##\n",
      "If you single left-click your mouse to select the cell above (\"The Basics of Using IPython\") you will see in the IPython toolbar that the first cell of this notebook is a \"Heading 1\" cell. \n",
      "\n",
      "<h2>Viewing a Cell's Actual Markdown Text</h2>\n",
      "Go ahead and double-click your mouse on -->this cell<-- and expose its unrendered contents. You will see it is a \"Markdown\" cell and that I've mixed some <a href=\"http://daringfireball.net/projects/markdown/syntax\" target=\"_blank\">markdown</a> *and* HTML. \n",
      "\n",
      "Using markdown cells, such as these, allow you to organize your notebook, explain the code found in code cells, and perhaps tell your readers what results to expect when code is executed or the code is changed.\n",
      "\n",
      "If you single-click onto another cell you will notice the markdown does not automatically display the rendered version of a cell while it is in edit mode. Select this cell again and press Shift-Enter. That evaluates or renders the contents of the cell. If it's markdown the text will be rendered. If it's a code cell, the code in that cell will be executed. Go ahead and hit Shift-Enter (or Shift-Return on a Mac) to render the contents of this cell.\n",
      "\n",
      "Markdown cells can be quite simple or can display complex LaTeX formatting. If you want more information about cell types and what's allowed in each you can find that information here:\n",
      "\n",
      "+ <a href=\"http://ipython.org/ipython-doc/stable/notebook/notebook.html#structure-of-a-notebook-document\" target=\"_blank\">Structure of a Notebook</a>\n",
      "\n",
      "## Code Cells and Python's State##\n",
      "The next cell is a code cell. Anything that can be entered into the Python shell can be entered in a \"code\" cell. Select it with your mouse and then hit Shift-Enter."
     ]
    },
    {
     "cell_type": "code",
     "collapsed": false,
     "input": [
      "1+2+3"
     ],
     "language": "python",
     "metadata": {},
     "outputs": []
    },
    {
     "cell_type": "markdown",
     "metadata": {},
     "source": [
      "You will notice that in executing the contents of the cell, the output it displayed is the same as you would see in a Python shell.\n",
      "\n",
      "The Python shell continues to run so that it maintains its state. If you set a variable to a value in one cell, it maintains that value *until you quit the IPython Notebook*.\n",
      "\n",
      "Execute the next cell by selecting it and pressing Shift-Enter. It will not display a resulting value because it is an assigment operation. However, the code will have been executed."
     ]
    },
    {
     "cell_type": "code",
     "collapsed": false,
     "input": [
      "string_value = 'Hello IPython'"
     ],
     "language": "python",
     "metadata": {},
     "outputs": []
    },
    {
     "cell_type": "markdown",
     "metadata": {},
     "source": [
      "You can tell the code was executed because the In[ ]: value changed to In[execution sequence number]: just as it would in a normal Python shell.\n",
      "\n",
      "Now execute the next cell."
     ]
    },
    {
     "cell_type": "code",
     "collapsed": false,
     "input": [
      "print (string_value)"
     ],
     "language": "python",
     "metadata": {},
     "outputs": []
    },
    {
     "cell_type": "markdown",
     "metadata": {},
     "source": [
      "In this case it printed string_value but note that if we close this notebook and reopen it, <i>string_value will not be defined, until that cell is executed again, and any reference to it would result in the normal error</i>\n",
      "\n",
      "&nbsp;&nbsp;&nbsp;<font color=\"#990033\">NameError</font>: name 'string_value' is not defined\n",
      "\n",
      "Now let's import a module into the shell. Execute the code:"
     ]
    },
    {
     "cell_type": "code",
     "collapsed": false,
     "input": [
      "import sys"
     ],
     "language": "python",
     "metadata": {},
     "outputs": []
    },
    {
     "cell_type": "markdown",
     "metadata": {},
     "source": [
      "Now use the import:"
     ]
    },
    {
     "cell_type": "code",
     "collapsed": false,
     "input": [
      "print (string_value + \"! I am running on \" + sys.platform)"
     ],
     "language": "python",
     "metadata": {},
     "outputs": []
    },
    {
     "cell_type": "heading",
     "level": 2,
     "metadata": {},
     "source": [
      "Picking Back Up Where You Left Off"
     ]
    },
    {
     "cell_type": "markdown",
     "metadata": {},
     "source": [
      "As noted before, if you close the Notebook the Python shell's state is lost. However, if you need to close the Notebook and pick back up where you left off at a later time, IPython makes it easy. The \"Cell\" menu near the top of the Notebook has a submenu item \"Run All Above\". Select the last cell you worked with by single left-clicking it and choose \"Run All Above\".\n",
      "***"
     ]
    },
    {
     "cell_type": "heading",
     "level": 1,
     "metadata": {},
     "source": [
      "Getting Help with IPython and Python from IPython"
     ]
    },
    {
     "cell_type": "heading",
     "level": 2,
     "metadata": {},
     "source": [
      "IPython Help"
     ]
    },
    {
     "cell_type": "markdown",
     "metadata": {},
     "source": [
      "To see the keyboard shortcuts, press Control-M and then the 'h' key. Go ahead and do it. \n",
      "\n",
      "Pretty slick.\n",
      "\n",
      "If you want a printed version of these shortcuts there is a IPython quick reference card available that is very well worth downloading and reviewing:\n",
      "<a href=\"http://damontallen.github.io/IPython-quick-ref-sheets/svg/Basic_Help.svg\">http://damontallen.github.io/IPython-quick-ref-sheets/svg/Basic_Help.svg</a>. It shows how to start IPython in various modes, keyboard shortcuts some of which are <i>very important to know,</i> and some other helpful information.\n",
      "\n",
      "There are a few code cell commands to get help with IPython:\n",
      "\n",
      "First, type ? in a code cell and hit Shift-Enter. This will give you a high level overview of IPython and its features. "
     ]
    },
    {
     "cell_type": "code",
     "collapsed": false,
     "input": [
      "?"
     ],
     "language": "python",
     "metadata": {},
     "outputs": []
    },
    {
     "cell_type": "markdown",
     "metadata": {},
     "source": [
      "You can execute the magic function %quickref in a cell. This magic function displays a quick reference card showing functions specific to IPython. IPython has some very nice features and you will find this quick reference well worth your time:"
     ]
    },
    {
     "cell_type": "code",
     "collapsed": false,
     "input": [
      "%quickref"
     ],
     "language": "python",
     "metadata": {},
     "outputs": []
    },
    {
     "cell_type": "heading",
     "level": 3,
     "metadata": {},
     "source": [
      "IPython Assisted Help"
     ]
    },
    {
     "cell_type": "markdown",
     "metadata": {},
     "source": [
      "Note that ?[word] or [word]? will result in the same help."
     ]
    },
    {
     "cell_type": "code",
     "collapsed": false,
     "input": [
      "?str"
     ],
     "language": "python",
     "metadata": {},
     "outputs": []
    },
    {
     "cell_type": "code",
     "collapsed": false,
     "input": [
      "type?"
     ],
     "language": "python",
     "metadata": {},
     "outputs": []
    },
    {
     "cell_type": "code",
     "collapsed": false,
     "input": [
      "string_value?"
     ],
     "language": "python",
     "metadata": {},
     "outputs": []
    },
    {
     "cell_type": "code",
     "collapsed": false,
     "input": [
      "sys??"
     ],
     "language": "python",
     "metadata": {},
     "outputs": []
    },
    {
     "cell_type": "code",
     "collapsed": false,
     "input": [
      "sys.exit??"
     ],
     "language": "python",
     "metadata": {},
     "outputs": []
    },
    {
     "cell_type": "heading",
     "level": 2,
     "metadata": {},
     "source": [
      "Python Help"
     ]
    },
    {
     "cell_type": "markdown",
     "metadata": {},
     "source": [
      "You can still use the builtin shell help() function but it isn't as pretty or convenient as the IPython assisted help:"
     ]
    },
    {
     "cell_type": "code",
     "collapsed": true,
     "input": [
      "help()"
     ],
     "language": "python",
     "metadata": {},
     "outputs": []
    },
    {
     "cell_type": "code",
     "collapsed": false,
     "input": [
      "help(sys.exit)"
     ],
     "language": "python",
     "metadata": {},
     "outputs": []
    },
    {
     "cell_type": "markdown",
     "metadata": {},
     "source": [
      "***"
     ]
    },
    {
     "cell_type": "heading",
     "level": 1,
     "metadata": {},
     "source": [
      "IPython Magic Functions"
     ]
    },
    {
     "cell_type": "markdown",
     "metadata": {},
     "source": [
      "We've already used the %quickref magic function but it didn't do much magic in displaying a quick reference card. There are over 100 magic functions in IPython and they range from handling mundane but useful tasks to doing some very cool functions.\n",
      "\n",
      "Let's say you've just written some code and you want to post it to GitHub's Gist paste bin. The %pastebin function can upload the code and return the URL.\n",
      "\n",
      "Another example: Let's say you are teaching regular expression use in Python and you want your Notebook users to have a particular text file available to work with. A cell containing the magic function %%writefile can write the text file for you so that the student needs no files other than your Notebook.\n",
      "\n",
      "Execute the following cell:"
     ]
    },
    {
     "cell_type": "code",
     "collapsed": false,
     "input": [
      "%%writefile reg_exp1.txt\n",
      "this is some text on line 1\n",
      "this is some more text on line 2\n",
      "this is some other text on line 3\n",
      "this is some changed text on line 4"
     ],
     "language": "python",
     "metadata": {},
     "outputs": []
    },
    {
     "cell_type": "markdown",
     "metadata": {},
     "source": [
      "Now that we have our data file, execute the next cell:"
     ]
    },
    {
     "cell_type": "code",
     "collapsed": false,
     "input": [
      "import re\n",
      "\n",
      "f = open('reg_exp1.txt', 'r')\n",
      "for reg_hit in re.findall(r'(this is ).{1,30}(\\d)', f.read()):\n",
      "    print (\"\".join(reg_hit))"
     ],
     "language": "python",
     "metadata": {},
     "outputs": []
    },
    {
     "cell_type": "heading",
     "level": 2,
     "metadata": {},
     "source": [
      "Getting More Help on IPython's Magic Functions"
     ]
    },
    {
     "cell_type": "markdown",
     "metadata": {},
     "source": [
      "You can get detailed help on the magic functions with the magic function"
     ]
    },
    {
     "cell_type": "code",
     "collapsed": false,
     "input": [
      "%magic"
     ],
     "language": "python",
     "metadata": {},
     "outputs": []
    },
    {
     "cell_type": "markdown",
     "metadata": {},
     "source": [
      "There is a very nice quick reference sheet available from <a href=\"http://damontallen.github.io/IPython-quick-ref-sheets/svg/Magic_only.svg\">http://damontallen.github.io/IPython-quick-ref-sheets/svg/Magic_only.svg</a> "
     ]
    }
   ],
   "metadata": {}
  }
 ]
}
